{
 "cells": [
  {
   "cell_type": "markdown",
   "id": "286495c6",
   "metadata": {},
   "source": [
    "# Dataset shift\n",
    "\n",
    "In the previous assignment you have worked with wafer map data from a semiconductor manufacturing process, and developed a calibrated binary classifier for identifying whether a finished wafer contains a known pattern of faulty chips.\n",
    "\n",
    "Imagine the company has evaluated several classifiers and deployed one of them in production, as part of a larger system for identifying the root causes of faulty chips. The root cause analysis relies on the expertise of human operators. When the root cause of faulty chips on a wafer can be identified, the process parameters can be adjusted, reducing the number of faulty chips and increasing wafer yield.\n",
    "\n",
    "Ideally, the company would like all wafers to be analyzed by the operators, however, their capacity is limited. Therefore, the classifier is used as part of a filtering stage to select wafers which are suitable for further analysis by the operators, based on whether the wafers contain a known pattern of faulty chips.\n",
    "\n",
    "After a month, the company observes degrading wafer yield. They suspect it is due to a drop in classification performance of the classifier: missing wafers that are suitable for further analysis will prevent the operators from identifying the root causes of faulty chips and adapting the process parameters, resulting in more faults and lower yield. Your task is to investigate this suspicion.\n",
    "\n",
    "#### Overview\n",
    "\n",
    "You are given two datasets: a labeled *training* set that represents the data used to train the classifier and a partially labeled *production* set representing the data collected after the model was deployed in production. Both datasets are based on the WM-811K dataset containing annotated wafer maps collected from real-world fabrication (see `./data/readme.txt`).\n",
    "\n",
    "You are also given the implementation of the deployed classifier.\n",
    "\n",
    "The assignment consists of two parts:\n",
    "\n",
    "- Part 1 is about defining the data mining objective.\n",
    "- Part 2 is about addressing the data mining objective.\n",
    "\n",
    "#### Deliverables\n",
    "\n",
    "There are two deliverables for this assignment:\n",
    "\n",
    "- Report: it should be max 4 pages long (double column). It's structure should follow the CRISP-DM process. A template is provided in the assignment on Canvas. The report will be graded.\n",
    "- This notebook: it must contain all the supporting material for the report, i.e. all the results and figures must be generated in this notebook. This notebook will not be graded, however, missing supporting material for the report will affect the grade of the report.\n",
    "\n",
    "Deliver a `.zip` archive with three files:\n",
    "\n",
    "- `dataset_shift_<groupid>.pdf` file containing the report,\n",
    "- `dataset_shift_<groupid>.ipynb` file containing this filled in **and executed** notebook,\n",
    "- `dataset_shift_<groupid>.html` file containing this filled in **and executed** notebook rendered to html,\n",
    "\n",
    "by submitting it to the corresponding assignment on Canvas. `<groupid>` refers to your group number on Canvas. You may submit as many times as you like before the deadline. The last submission counts.\n",
    "\n",
    "Throughout this notebook you will find cells starting `# // BEGIN_TODO`.\n",
    "\n",
    "- Fill in all your code between these `# // BEGIN_TODO [Q0]` and `# // END_TODO [Q0]` tags.\n",
    "- Do not edit these tags in any way, or else your answers may not be processed by the grading system.\n",
    "- You can add as many code and text cells as you want between the `# // BEGIN_TODO [Q0]` and `# // END_TODO [Q0]` tags to make your code nicely readable.\n",
    "- Unlike the previous assignment, your submitted notebook will *not* be evaluated by Momotor. You are free to use any libraries you like, but make sure you import all your libraries between the `# // BEGIN_TODO [Q0]` and `# // END_TODO [Q0]` tags.\n",
    "\n",
    "You are encouraged to play with the data and extend this notebook in order to obtain your answers. You may insert cells at any point in the notebook, but remember:\n",
    "<br/><br/>\n",
    "<div style=\"padding: 15px; border: 1px solid transparent; border-color: transparent; margin-bottom: 20px; border-radius: 4px; color: #a94442; background-color: #f2dede; border-color: #ebccd1;\n",
    "\">\n",
    "Only the code in your answer cells (i.e. between `# // BEGIN_TODO` and `# // END_TODO`) will be extracted and evaluated.\n",
    "</div>\n",
    "\n",
    "<div style=\"padding: 15px; border: 1px solid transparent; border-color: transparent; margin-bottom: 20px; border-radius: 4px; color: #a94442; background-color: #f2dede; border-color: #ebccd1;\n",
    "\">\n",
    "Before delivering your notebook, make sure that the cells in your notebook can be executed in sequence without errors, by executing \"Restart & Run All\" from the \"Kernel\" menu.\n",
    "</div>\n",
    "\n",
    "Let's get started by filling in your details in the following answer cell. Assign your group number, your names and student ids to variables `group_number`, `name_student1`, `id_student1`, `name_student2`, `id_student2`, e.g.:\n",
    "\n",
    "```\n",
    "# // BEGIN_TODO [AUTHOR]\n",
    "group_number = \"7\"\n",
    "name_student1 = \"John Smith\"\n",
    "id_student1 = \"1234567\"\n",
    "name_student2 = \"Jane Miller\"\n",
    "id_student2 = \"7654321\"\n",
    "# // END_TODO [AUTHOR]\n",
    "```"
   ]
  },
  {
   "cell_type": "code",
   "execution_count": 1,
   "id": "dfd5121d",
   "metadata": {},
   "outputs": [],
   "source": [
    "#// BEGIN_TODO [AUTHOR]\n",
    "\n",
    "group_number = \"24\"\n",
    "name_student1 = \"Ambarish Moharil\"\n",
    "id_student1 = \"1704818\"\n",
    "name_student2 = \"Saptarshi Chakravarty\"\n",
    "id_student2 = \"7654321\"\n",
    "\n",
    "#// END_TODO [AUTHOR]"
   ]
  },
  {
   "cell_type": "markdown",
   "id": "f5849978",
   "metadata": {},
   "source": [
    "## Import libraries\n",
    "\n",
    "You are free to use any libraries you like. However, please import any additional libraries between `# // BEGIN_TODO [CODE]` and `# // END_TODO [CODE]` tags in Part 2."
   ]
  },
  {
   "cell_type": "code",
   "execution_count": 2,
   "id": "3514b63e",
   "metadata": {},
   "outputs": [],
   "source": [
    "import pandas as pd\n",
    "import numpy as np\n",
    "import matplotlib.pyplot as plt\n",
    "import pickle"
   ]
  },
  {
   "cell_type": "markdown",
   "id": "91b7c08a",
   "metadata": {},
   "source": [
    "## Load the data\n",
    "\n",
    "The training data, that was used to train the classifier before deployment, resides in the `./data/wafer_training.pkl` pickle file."
   ]
  },
  {
   "cell_type": "code",
   "execution_count": 3,
   "id": "621ad3a6",
   "metadata": {
    "ExecuteTime": {
     "end_time": "2022-10-01T20:02:24.232831Z",
     "start_time": "2022-10-01T20:02:24.116407Z"
    }
   },
   "outputs": [],
   "source": [
    "with open('./data/wafer_training.pkl', 'rb') as f:\n",
    "    X_train, y_train = pickle.load(f)"
   ]
  },
  {
   "cell_type": "code",
   "execution_count": 4,
   "id": "35f97941",
   "metadata": {},
   "outputs": [
    {
     "data": {
      "text/plain": [
       "(2624, 26, 26)"
      ]
     },
     "execution_count": 4,
     "metadata": {},
     "output_type": "execute_result"
    }
   ],
   "source": [
    "X_train.shape"
   ]
  },
  {
   "cell_type": "markdown",
   "id": "a75531fc",
   "metadata": {},
   "source": [
    "`X_train` contains the wafer maps and `y_train` contains the labels. The maps are 26x26 pixels, a pixel of value 0 represents the background, a pixel of value 1 indicates a good chip, and a pixel of value 2 indicates a bad chip. An example of a wafer map is shown below."
   ]
  },
  {
   "cell_type": "code",
   "execution_count": 5,
   "id": "20f2abd3",
   "metadata": {},
   "outputs": [
    {
     "data": {
      "image/png": "[encoded data removed]",
      "text/plain": [
       "<Figure size 144x144 with 1 Axes>"
      ]
     },
     "metadata": {
      "needs_background": "light"
     },
     "output_type": "display_data"
    }
   ],
   "source": [
    "fig, axes = plt.subplots(1, figsize = (2,2))\n",
    "plt.imshow(X_train[0]);"
   ]
  },
  {
   "cell_type": "markdown",
   "id": "cf66bb86",
   "metadata": {},
   "source": [
    "The production data, that was collected after the classifier was deployed in production, resides in the `./data/wafer_production.pkl` pickle file."
   ]
  },
  {
   "cell_type": "code",
   "execution_count": 6,
   "id": "f3fc1655",
   "metadata": {},
   "outputs": [],
   "source": [
    "with open('./data/wafer_production.pkl', 'rb') as f:\n",
    "    X_production, y_production = pickle.load(f)"
   ]
  },
  {
   "cell_type": "code",
   "execution_count": 7,
   "id": "a8f57c35",
   "metadata": {},
   "outputs": [
    {
     "data": {
      "text/plain": [
       "(7953, 26, 26)"
      ]
     },
     "execution_count": 7,
     "metadata": {},
     "output_type": "execute_result"
    }
   ],
   "source": [
    "X_production.shape"
   ]
  },
  {
   "cell_type": "code",
   "execution_count": 8,
   "id": "aad3817a",
   "metadata": {},
   "outputs": [],
   "source": [
    "# Create a Test Set\n",
    "X_test = X_production[-867:]\n",
    "y_test = y_production[-867:]\n",
    "\n",
    "# Production List\n",
    "X_prod_list = []\n",
    "y_prod_list = []\n",
    "for idx in range(0,7085):\n",
    "    X_prod_list.append(X_production[idx])\n",
    "    y_prod_list.append(y_production[idx])\n",
    "X_production = np.array(X_prod_list)\n",
    "y_production = np.array(y_prod_list)"
   ]
  },
  {
   "cell_type": "markdown",
   "id": "add901ea",
   "metadata": {},
   "source": [
    "`X_production` contains the wafer maps and `y_production` contains the labels. The samples are listed in the same order as they were collected.\n",
    "\n",
    "The wafer maps were labeled by human experts according to whether the wafer map contains a known bad chip pattern or not:\n",
    "\n",
    "- 1: a pattern (one of the 8 patterns in the Calibration assignment)\n",
    "- 0: no pattern\n",
    "- -1: unlabeled sample\n",
    "\n",
    "You will observe that `y_production` is only partially labeled, i.e. some samples are unlabeled. You can imagine that labeling is time consuming and expensive process and only a subset was labeled, e.g. for monitoring the performance of the classifier.\n",
    "\n",
    "An example of the wafer map with and without known pattern is shown below."
   ]
  },
  {
   "cell_type": "code",
   "execution_count": 9,
   "id": "837764b4",
   "metadata": {},
   "outputs": [
    {
     "data": {
      "image/png": "[encoded data removed]",
      "text/plain": [
       "<Figure size 432x144 with 2 Axes>"
      ]
     },
     "metadata": {},
     "output_type": "display_data"
    }
   ],
   "source": [
    "unique_classes, class_indexes = np.unique(y_train,return_index=True)\n",
    "class_names = [\"No pattern\", \"Pattern\"]\n",
    "fig, axes = plt.subplots(1,2, figsize = (6,2))\n",
    "for num_index, index in enumerate(class_indexes):\n",
    "    axes[num_index].imshow(X_train[index])\n",
    "    axes[num_index].set_title(class_names[unique_classes[num_index]])\n",
    "    axes[num_index].set_xticks([])\n",
    "    axes[num_index].set_yticks([])"
   ]
  },
  {
   "cell_type": "markdown",
   "id": "7ddb4ba7",
   "metadata": {},
   "source": [
    "## Define the classifier\n",
    "\n",
    "Here is the implementation of the deployed classifier. It is a multi-layer perceptron with one hidden layer containing 10 neurons, that is trained using the Adam optimizer with early stopping. It expects a vector as input."
   ]
  },
  {
   "cell_type": "code",
   "execution_count": 10,
   "id": "9b027045",
   "metadata": {},
   "outputs": [],
   "source": [
    "from sklearn.neural_network import MLPClassifier\n",
    "\n",
    "deployed_classifier = MLPClassifier(hidden_layer_sizes=(10), early_stopping=True, tol=1e-4, validation_fraction=0.1,\n",
    "                                n_iter_no_change=20, solver=\"adam\", max_iter=100, random_state=1)"
   ]
  },
  {
   "cell_type": "markdown",
   "id": "356882ba",
   "metadata": {},
   "source": [
    "## Part 1: identify the data mining objective\n",
    "\n",
    "Think of a data mining objective that can be derived from the description above. The objective should be general enough to prevent similar problems from occurring in the future. We will discuss your objectives during the lab session on October 6th and decide on a common objective to be addressed by all groups (it will be posted on Teams for those unable to attend the lab session). Feel free to explore the data."
   ]
  },
  {
   "cell_type": "code",
   "execution_count": 11,
   "id": "51f67599",
   "metadata": {},
   "outputs": [],
   "source": [
    "# TODO: Explore the data\n",
    "\n",
    "#PLAN OF ACTION : \n",
    "\n",
    "#okay so we need to detect when the dataset shift is happening.\n",
    "#our plan:- \n",
    "#we will construct a VAE (Variational AutoEncoder), which we will train on the input distribution of our data and measure the recons and \n",
    "# KL Divergence loss. Further more, to obtain the best reconstruction our obj would be to max the PR-AUC.\n",
    "#Once we have done this, we will look at the production dataset and look for the drop in the PR AUC metric.\n",
    "#For those samples, we will get the MLP clf predictions and investigate if the clf is giving a poor perf.\n",
    "#If that is indeed the case, then we can say for sure that the samples are OOD.\n"
   ]
  },
  {
   "cell_type": "code",
   "execution_count": 12,
   "id": "9f277f44",
   "metadata": {},
   "outputs": [],
   "source": [
    "#Chunk the production set in a sequential manner \n",
    "\n"
   ]
  },
  {
   "cell_type": "code",
   "execution_count": 13,
   "id": "d88a2fad",
   "metadata": {},
   "outputs": [],
   "source": [
    "from sklearn.model_selection import train_test_split\n",
    "\n",
    "X_train, X_val, y_train, y_val = train_test_split(X_train, y_train, test_size = 0.4, random_state = 42)"
   ]
  },
  {
   "cell_type": "code",
   "execution_count": 14,
   "id": "49f86dfa",
   "metadata": {},
   "outputs": [
    {
     "data": {
      "text/plain": [
       "MLPClassifier(early_stopping=True, hidden_layer_sizes=10, max_iter=100,\n",
       "              n_iter_no_change=20, random_state=1)"
      ]
     },
     "execution_count": 14,
     "metadata": {},
     "output_type": "execute_result"
    }
   ],
   "source": [
    "#Evaluate the classifier\n",
    "\n",
    "deployed_classifier.fit(X_train.reshape(X_train.shape[0], X_train.shape[1]*X_train.shape[2]), y_train)"
   ]
  },
  {
   "cell_type": "code",
   "execution_count": 15,
   "id": "079682d2",
   "metadata": {},
   "outputs": [],
   "source": [
    "y_pred = deployed_classifier.predict(X_val.reshape(X_val.shape[0],X_val.shape[1]*X_val.shape[2] ))"
   ]
  },
  {
   "cell_type": "code",
   "execution_count": 16,
   "id": "dc723023",
   "metadata": {},
   "outputs": [],
   "source": [
    "#We will evaluate the classifier on our validation set"
   ]
  },
  {
   "cell_type": "code",
   "execution_count": 17,
   "id": "548ada45",
   "metadata": {},
   "outputs": [
    {
     "name": "stdout",
     "output_type": "stream",
     "text": [
      "The mean recall score of the model on the validation set is 0.6867924528301886\n",
      "The mean precision score of the model on the validation set is 0.91\n",
      "The mean F1 score of the model on the validation set is 0.7827956989247311\n"
     ]
    }
   ],
   "source": [
    "from sklearn.metrics import precision_score, recall_score, f1_score,  confusion_matrix\n",
    "recall = recall_score(y_val, y_pred)\n",
    "precision = precision_score(y_val, y_pred)\n",
    "\n",
    "f1_score =  2 * (precision * recall) / (precision + recall)\n",
    "\n",
    "print(f'The mean recall score of the model on the validation set is {recall}')\n",
    "print(f'The mean precision score of the model on the validation set is {precision}')\n",
    "print(f'The mean F1 score of the model on the validation set is {f1_score}')"
   ]
  },
  {
   "cell_type": "code",
   "execution_count": 18,
   "id": "bfebdf1c",
   "metadata": {},
   "outputs": [],
   "source": [
    "#Create the dataset class\n",
    "import torch\n",
    "from torchvision import transforms\n",
    "from torch.utils.data import Dataset, DataLoader,TensorDataset\n",
    "import numpy as np\n",
    "from torch import nn\n",
    "\n",
    "\n",
    "class CreateDataset(Dataset):\n",
    "    def __init__(self, data, targets):\n",
    "        self.data = torch.tensor(data, requires_grad= True, dtype = torch.float32)\n",
    "        self.targets = torch.tensor(targets, dtype = torch.float32)\n",
    "        \n",
    "    def __getitem__(self, index):\n",
    "        x = self.data[index]\n",
    "        y = self.targets[index]\n",
    "        \n",
    "        return x, y\n",
    "    \n",
    "    def __len__(self):\n",
    "        \n",
    "        return len(self.data) \n"
   ]
  },
  {
   "cell_type": "code",
   "execution_count": 19,
   "id": "0f5580cc",
   "metadata": {},
   "outputs": [],
   "source": [
    "#dataset class for unknown data points\n",
    "class CreateDatasetUnknown(Dataset):\n",
    "    def __init__(self, data):\n",
    "        self.data = torch.tensor(data, requires_grad= True, dtype = torch.float32)\n",
    "\n",
    "    def __getitem__(self, index):\n",
    "        x = self.data[index]\n",
    "\n",
    "        return x\n",
    "    \n",
    "    def __len__(self):\n",
    "        \n",
    "        return len(self.data) "
   ]
  },
  {
   "cell_type": "code",
   "execution_count": 20,
   "id": "756632c3",
   "metadata": {},
   "outputs": [],
   "source": [
    "#First get a set of labelled samples from the production data\n",
    "\n",
    "X_production_labelled_list = []\n",
    "y_production_labelled_list = []\n",
    "\n",
    "X_production_unalabelled_list = []\n",
    "\n",
    "for i in range(len(y_production)):\n",
    "    if y_production[i] != -1:\n",
    "        X_production_labelled_list.append(X_production[i])\n",
    "        y_production_labelled_list.append(y_production[i])\n",
    "    else:\n",
    "        X_production_unalabelled_list.append(X_production[i])\n",
    "\n",
    "\n",
    "X_production_lab = np.array(X_production_labelled_list)\n",
    "y_production_lab = np.array(y_production_labelled_list)\n",
    "\n",
    "X_production_unlab = np.array(X_production_unalabelled_list)"
   ]
  },
  {
   "cell_type": "code",
   "execution_count": 21,
   "id": "65f6bfa3",
   "metadata": {},
   "outputs": [
    {
     "data": {
      "text/plain": [
       "(2361, 26, 26)"
      ]
     },
     "execution_count": 21,
     "metadata": {},
     "output_type": "execute_result"
    }
   ],
   "source": [
    "X_production_lab.shape\n"
   ]
  },
  {
   "cell_type": "code",
   "execution_count": 22,
   "id": "64cb4b50",
   "metadata": {},
   "outputs": [],
   "source": [
    "# 5 and 13 are the divisors of 2361\n",
    "\n",
    "#So we can try detecting by dividing the data in 3 sets \n",
    "#chunk 1 [0-787]\n",
    "\n",
    "def split_array(arr, start_rng, end_rng, axis):\n",
    "    split_arr = np.split(arr, [start_rng, end_rng], axis=0)\n",
    "    return split_arr[1]\n",
    "\n",
    "#set 1\n",
    "X_production1 = split_array(X_production, 0,787, 0)\n",
    "y_production1 = split_array(y_production, 0,787, 0)\n",
    "\n",
    "#set2\n",
    "X_production2 = split_array(X_production, ((787*1) + 1),((787*2)), 0)\n",
    "y_production2 = split_array(y_production,  ((787*1) + 1),((787*2)), 0)\n",
    "\n",
    "#set3\n",
    "X_production3 = split_array(X_production,  ((787*2) + 1),((787*3)), 0)\n",
    "y_production3 = split_array(y_production,  ((787*2) + 1),((787*3)), 0)"
   ]
  },
  {
   "cell_type": "code",
   "execution_count": 23,
   "id": "7890e32d",
   "metadata": {},
   "outputs": [],
   "source": [
    "#create the training dataloader\n",
    "train_dataset = CreateDataset(X_train,y_train)\n",
    "train_dataloader =  torch.utils.data.DataLoader(train_dataset, batch_size=10)\n",
    "\n",
    "#create the validation dataloader\n",
    "val_dataset = CreateDataset(X_val,y_val)\n",
    "val_dataloader =  torch.utils.data.DataLoader(val_dataset, batch_size=10)"
   ]
  },
  {
   "cell_type": "code",
   "execution_count": 24,
   "id": "8c12d2b8",
   "metadata": {},
   "outputs": [],
   "source": [
    "#for production datasets - labelled\n",
    "prod_dataset_lab1 = CreateDataset(X_production1,y_production1)\n",
    "prod_dataloader_lab1 =  torch.utils.data.DataLoader(prod_dataset_lab1, batch_size=10)\n",
    "\n",
    "prod_dataset_lab2 = CreateDataset(X_production2,y_production2)\n",
    "prod_dataloader_lab2 =  torch.utils.data.DataLoader(prod_dataset_lab2, batch_size=10)\n",
    "\n",
    "prod_dataset_lab3 = CreateDataset(X_production3,y_production3)\n",
    "prod_dataloader_lab3 =  torch.utils.data.DataLoader(prod_dataset_lab3, batch_size=10)"
   ]
  },
  {
   "cell_type": "code",
   "execution_count": 25,
   "id": "867e8aee",
   "metadata": {},
   "outputs": [],
   "source": [
    "#for production datasets - unlabelled\n",
    "prod_dataset_unlab = CreateDatasetUnknown(X_production_unlab)\n",
    "prod_dataloader_unlab =  torch.utils.data.DataLoader(prod_dataset_unlab, batch_size=10)"
   ]
  },
  {
   "cell_type": "code",
   "execution_count": 26,
   "id": "448d7941",
   "metadata": {},
   "outputs": [],
   "source": [
    "import numpy as np\n",
    "import pickle\n",
    "import requests\n",
    "import torch\n",
    "import torch.nn as nn\n",
    "from torch.optim import Adam\n",
    "import torchvision.transforms as transforms\n",
    "from torch.utils.data import DataLoader, SubsetRandomSampler\n",
    "import numpy as np\n",
    "import matplotlib.pyplot as plt\n",
    "import seaborn as sns\n",
    "from tqdm import tqdm\n",
    "from sklearn.metrics import roc_curve, precision_recall_curve, auc\n",
    "\n",
    "\n",
    "#Create a Variational Autoencoder\n",
    "\n",
    "class Encoder(nn.Module):\n",
    "    def __init__(self, input_dim, hidden_dim, latent_dim):\n",
    "        super(Encoder, self).__init__()\n",
    "        \n",
    "        self.input_dim = input_dim\n",
    "        self.hidden_dim = hidden_dim\n",
    "        self.latent_dim = latent_dim\n",
    "        \n",
    "        self.input_layer = nn.Linear(input_dim, hidden_dim) \n",
    "        self.hidden_layer = nn.Linear(hidden_dim, hidden_dim)\n",
    "        self.mu_layer = nn.Linear(hidden_dim, latent_dim)\n",
    "        self.sigma_layer = nn.Linear(hidden_dim, latent_dim)\n",
    "        \n",
    "    def forward(self, batch_input):\n",
    "        \n",
    "        \n",
    "        h = nn.ReLU()(self.input_layer(batch_input)) #[N X H], H = hidden_dim, N = batch_size\n",
    "        h = nn.ReLU()(self.hidden_layer(h)) #[N X H]\n",
    "        \n",
    "        mu = self.mu_layer(h)\n",
    "        log_sigma = self.sigma_layer(h)\n",
    "        \n",
    "        z = self.reparam(mu, log_sigma)\n",
    "        \n",
    "        return z, mu, log_sigma\n",
    "    \n",
    "    def reparam(self, mu, log_sigma):\n",
    "        sigma = torch.exp(log_sigma)\n",
    "        eps = torch.randn_like(sigma) #Returns a tensor with the same size as input that is filled with random numbers from a normal distribution with mean 0 and variance 1.\n",
    "        \n",
    "        z = mu + sigma*eps\n",
    "        \n",
    "        return z\n",
    "    \n",
    "#The encoder has now encoded the the input into an L dim latent vector Z, we need to decode z in order to sample from p(x)\n",
    "#Thus we define a decoder \n",
    "\n",
    "class Decoder(nn.Module):\n",
    "    def __init__(self, hidden_dim, latent_dim, output_dim):\n",
    "        super(Decoder, self).__init__()\n",
    "        \n",
    "        self.hidden_dim = hidden_dim\n",
    "        self.latent_dim = latent_dim\n",
    "        self.output_dim = output_dim\n",
    "        \n",
    "        self.hidden_layer1 = nn.Linear(latent_dim, hidden_dim)\n",
    "        self.hidden_layer2 = nn.Linear(hidden_dim, hidden_dim)\n",
    "        self.out = nn.Linear(hidden_dim, output_dim)\n",
    "        \n",
    "    def forward(self, z):\n",
    "        \n",
    "        h_o = nn.ReLU()(self.hidden_layer1(z))\n",
    "        h_o = nn.ReLU()(self.hidden_layer2(h_o))\n",
    "        \n",
    "        reconstruction = nn.Sigmoid()(self.out(h_o))\n",
    "        \n",
    "        return reconstruction\n",
    "        \n",
    "#Now we can define the VAE\n",
    "\n",
    "class VAE(nn.Module):\n",
    "    def __init__(self, encoder, decoder):\n",
    "        super(VAE, self).__init__()\n",
    "        \n",
    "        self.encoder = encoder\n",
    "        self.decoder = decoder\n",
    "        \n",
    "        \n",
    "    def forward(self, batch_input):\n",
    "        \n",
    "        z, mu, log_sigma = self.encoder(batch_input)\n",
    "        x_reconstructed = self.decoder(z)\n",
    "        \n",
    "        return x_reconstructed, mu, log_sigma, z\n",
    "    \n"
   ]
  },
  {
   "cell_type": "code",
   "execution_count": 52,
   "id": "a6cc9885",
   "metadata": {},
   "outputs": [],
   "source": [
    "# code for model definitions goes here\n",
    "class ConvEncoder(nn.Module):\n",
    "    def __init__(self, input_dim, hidden_dim, latent_dim, imgChannels =1, featureDim = 128*5*5):\n",
    "        super(ConvEncoder, self).__init__()\n",
    "        \n",
    "        self.input_dim = input_dim\n",
    "        self.hidden_dim = hidden_dim\n",
    "        self.latent_dim = latent_dim\n",
    "        \n",
    "        # Initializing the 2 convolutional layers and 2 full-connected layers for the encoder\n",
    "        self.encConv1 = nn.Conv2d(imgChannels, 64, 3, stride =1) # 16x30x30\n",
    "        self.batchNorm1 = nn.BatchNorm2d(64)\n",
    "        self.maxPool1 = nn.MaxPool2d(2) # 16 x 15 x 15\n",
    "        self.encConv2 = nn.Conv2d(64, 128, 3, stride =1) # 32 x 13x 13\n",
    "        self.batchNorm2 = nn.BatchNorm2d(128)\n",
    "        self.maxPool2 = nn.MaxPool2d(2) # 32x6x6\n",
    "        \n",
    "        self.dropout = nn.Dropout(0.5)\n",
    "        self.encFC1 = nn.Linear(featureDim, latent_dim)\n",
    "        self.encFC2 = nn.Linear(featureDim, latent_dim)\n",
    "\n",
    "        \n",
    "        #self.input_layer = nn.Linear(out_channels*32*32, hidden_dim)\n",
    "        self.hidden_layer = nn.Linear(hidden_dim, hidden_dim)\n",
    "        self.mu_layer = nn.Linear(featureDim, latent_dim)\n",
    "        self.sigma_layer = nn.Linear(featureDim, latent_dim)\n",
    "        \n",
    "    def forward(self, batch_input):\n",
    "        \n",
    "        #Conv Block 1\n",
    "        h = self.encConv1(batch_input) #[N X H], H = hidden_dim, N = batch_size\n",
    "        h = self.batchNorm1(h)\n",
    "        h = nn.ReLU()(self.maxPool1(h))\n",
    "#         Conv Block 2\n",
    "        h = self.encConv2(h) #[N X H], H = hidden_dim, N = batch_size\n",
    "        h = self.batchNorm2(h)\n",
    "        h = nn.ReLU()(self.maxPool2(h)) \n",
    "        h = h.view(-1, 128*5*5)\n",
    "        \n",
    "        h = self.dropout(h)\n",
    "        mu = self.mu_layer(h)\n",
    "        log_sigma = self.sigma_layer(h)\n",
    "        \n",
    "        z = self.reparam(mu, log_sigma)\n",
    "        \n",
    "        return z, mu, log_sigma\n",
    "    \n",
    "    def reparam(self, mu, log_sigma):\n",
    "        sigma = torch.exp(log_sigma)\n",
    "        eps = torch.randn_like(sigma) #Returns a tensor with the same size as input that is filled with random numbers from a normal distribution with mean 0 and variance 1.\n",
    "        \n",
    "        z = mu + sigma*eps\n",
    "        \n",
    "        return z\n",
    "    \n",
    "#The encoder has now encoded the the input into an L dim latent vector Z, we need to decode z in order to sample from p(x)\n",
    "#Thus we define a decoder \n",
    "\n",
    "class ConvDecoder(nn.Module):\n",
    "    def __init__(self, hidden_dim, latent_dim, output_dim, imgChannels =1, featureDim = 128*22*22):\n",
    "        super(ConvDecoder, self).__init__()\n",
    "        \n",
    "        self.hidden_dim = hidden_dim\n",
    "        self.latent_dim = latent_dim\n",
    "        self.output_dim = output_dim\n",
    "        \n",
    "        \n",
    "        # Initializing the fully-connected layer and 2 convolutional layers for decoder\n",
    "        self.decFC1 = nn.Linear(latent_dim, featureDim)\n",
    "        self.decConv1 = nn.ConvTranspose2d(128, 64, 3)\n",
    "        self.decConv2 = nn.ConvTranspose2d(64, imgChannels, 3)\n",
    "\n",
    "        \n",
    "    def forward(self, z):\n",
    "        \n",
    "        h_o = nn.ReLU()(self.decFC1(z))\n",
    "        \n",
    "        h_o = h_o.view(-1, 128,22,22)\n",
    "        \n",
    "        h_o = nn.ReLU()(self.decConv1(h_o))\n",
    "\n",
    "        reconstruction = nn.Sigmoid()(self.decConv2(h_o))\n",
    "        \n",
    "        return reconstruction\n",
    "        \n",
    "#Now we can define the VAE\n",
    "\n",
    "class ConvVAE(nn.Module):\n",
    "    def __init__(self, encoder, decoder):\n",
    "        super(ConvVAE, self).__init__()\n",
    "        \n",
    "        self.encoder = encoder\n",
    "        self.decoder = decoder\n",
    "        \n",
    "        \n",
    "    def forward(self, batch_input):\n",
    "        \n",
    "        z, mu, log_sigma = self.encoder(batch_input)\n",
    "        x_reconstructed = self.decoder(z)\n",
    "        \n",
    "        return x_reconstructed, mu, log_sigma,z\n",
    "   "
   ]
  },
  {
   "cell_type": "code",
   "execution_count": 53,
   "id": "308f063e",
   "metadata": {},
   "outputs": [],
   "source": [
    "#We need to define the KL-Divergence loss and the reconstruction loss\n",
    "def loss_function(x, x_reconstr, mu, log_sigma,reduce=True):\n",
    "    if reduce:\n",
    "        reconstr_loss = nn.functional.mse_loss(x_reconstr, x, reduction='sum')\n",
    "        kl_loss = 0.5 * torch.sum(mu.pow(2) + (2*log_sigma).exp() - 2*log_sigma - 1)\n",
    "        total_loss = reconstr_loss + kl_loss\n",
    "    else:\n",
    "        reconstr_loss =torch.sum(nn.functional.mse_loss(x_reconstr, x, reduction='none'), dim=(1))\n",
    "        kl_loss =  0.5 * torch.sum(mu.pow(2) + (2*log_sigma).exp() - 2*log_sigma - 1, dim=1)\n",
    "        total_loss = reconstr_loss + kl_loss\n",
    "    return total_loss, reconstr_loss, kl_loss"
   ]
  },
  {
   "cell_type": "code",
   "execution_count": 54,
   "id": "d78b642e",
   "metadata": {},
   "outputs": [],
   "source": [
    "# #Instantiate the classes ---VAE\n",
    "# cuda = True\n",
    "# DEVICE = torch.device(\"cuda\" if cuda else \"cpu\")\n",
    "# x_dim = 26*26\n",
    "# latent_dim = 5\n",
    "# hidden_dim = 500\n",
    "# batch_size = 10\n",
    "# lr = 6e-04\n",
    "# epochs = 11\n",
    "\n",
    "# encoder = Encoder(input_dim = x_dim, hidden_dim = hidden_dim, latent_dim = latent_dim).cuda()\n",
    "# decoder = Decoder(hidden_dim = hidden_dim, latent_dim = latent_dim, output_dim = x_dim).cuda()\n",
    "\n",
    "# vae = VAE(encoder = encoder, decoder = decoder).cuda()"
   ]
  },
  {
   "cell_type": "code",
   "execution_count": 55,
   "id": "4909c238",
   "metadata": {},
   "outputs": [],
   "source": [
    "#Instantiate the classes ---CONV VAE\n",
    "cuda = True\n",
    "DEVICE = torch.device(\"cuda\" if cuda else \"cpu\")\n",
    "x_dim = 26*26\n",
    "latent_dim = 5\n",
    "hidden_dim = 500\n",
    "batch_size = 10\n",
    "lr = 6e-04\n",
    "epochs = 50\n",
    "\n",
    "convencoder = ConvEncoder(input_dim = x_dim, hidden_dim = hidden_dim, latent_dim = latent_dim).cuda()\n",
    "convdecoder = ConvDecoder(hidden_dim = hidden_dim, latent_dim = latent_dim, output_dim = x_dim).cuda()\n",
    "conv_vae = ConvVAE(encoder = convencoder, decoder = convdecoder).cuda()"
   ]
  },
  {
   "cell_type": "code",
   "execution_count": 56,
   "id": "ef6cd9da",
   "metadata": {
    "scrolled": true
   },
   "outputs": [
    {
     "name": "stdout",
     "output_type": "stream",
     "text": [
      "Start training VAE...\n",
      "\tEpoch 1 \n",
      "Average Loss:  174.88333405901673\n",
      "\n",
      "Reconstruction Loss: 166.6295491018113 \tKL Loss: 8.253785511186928   \tVal PR_AUC 0.8795362638131731\n",
      "\n",
      "\n",
      "\tEpoch 2 \n",
      "Average Loss:  120.15666192899084\n",
      "\n",
      "Reconstruction Loss: 115.57671190006718 \tKL Loss: 4.579949914725723   \tVal PR_AUC 0.8784929714619655\n",
      "\n",
      "\n",
      "\tEpoch 3 \n",
      "Average Loss:  107.67597492971238\n",
      "\n",
      "Reconstruction Loss: 103.08050653737062 \tKL Loss: 4.595468067971005   \tVal PR_AUC 0.8796984159230274\n",
      "\n",
      "\n",
      "\tEpoch 4 \n",
      "Average Loss:  104.52449161991193\n",
      "\n",
      "Reconstruction Loss: 99.82810991615247 \tKL Loss: 4.696381509379976   \tVal PR_AUC 0.880777161446872\n",
      "\n",
      "\n",
      "\tEpoch 5 \n",
      "Average Loss:  103.380946223751\n",
      "\n",
      "Reconstruction Loss: 98.78380099739998 \tKL Loss: 4.597144869178724   \tVal PR_AUC 0.8815356340570202\n",
      "\n",
      "\n",
      "\tEpoch 6 \n",
      "Average Loss:  102.13868699772343\n",
      "\n",
      "Reconstruction Loss: 97.72058536991192 \tKL Loss: 4.4181013969858745   \tVal PR_AUC 0.8804056702742724\n",
      "\n",
      "\n",
      "\tEpoch 7 \n",
      "Average Loss:  101.1888797832902\n",
      "\n",
      "Reconstruction Loss: 96.89089650925557 \tKL Loss: 4.297983220580277   \tVal PR_AUC 0.8824167998763743\n",
      "\n",
      "\n",
      "\tEpoch 8 \n",
      "Average Loss:  100.72713199299612\n",
      "\n",
      "Reconstruction Loss: 96.45191008938346 \tKL Loss: 4.2752220056618855   \tVal PR_AUC 0.8834071573639322\n",
      "\n",
      "\n",
      "\tEpoch 9 \n",
      "Average Loss:  100.08842209737013\n",
      "\n",
      "Reconstruction Loss: 96.09761819049811 \tKL Loss: 3.990803922665347   \tVal PR_AUC 0.8805291544121059\n",
      "\n",
      "\n",
      "\tEpoch 10 \n",
      "Average Loss:  100.05588779327975\n",
      "\n",
      "Reconstruction Loss: 96.02499766744626 \tKL Loss: 4.03089010518068   \tVal PR_AUC 0.8819247567239961\n",
      "\n",
      "\n",
      "\tEpoch 11 \n",
      "Average Loss:  99.77536205121666\n",
      "\n",
      "Reconstruction Loss: 95.74480213724124 \tKL Loss: 4.03056038291591   \tVal PR_AUC 0.8830127355475967\n",
      "\n",
      "\n",
      "\tEpoch 12 \n",
      "Average Loss:  99.75313553536773\n",
      "\n",
      "Reconstruction Loss: 95.76205525975318 \tKL Loss: 3.991080235523783   \tVal PR_AUC 0.8824828989542676\n",
      "\n",
      "\n",
      "\tEpoch 13 \n",
      "Average Loss:  99.54540028177249\n",
      "\n",
      "Reconstruction Loss: 95.57682879988555 \tKL Loss: 3.9685715802915538   \tVal PR_AUC 0.8850169382494595\n",
      "\n",
      "\n",
      "\tEpoch 14 \n",
      "Average Loss:  99.1982629083524\n",
      "\n",
      "Reconstruction Loss: 95.3453133941456 \tKL Loss: 3.852949440099631   \tVal PR_AUC 0.8853588424002713\n",
      "\n",
      "\n",
      "\tEpoch 15 \n",
      "Average Loss:  99.13408646310211\n",
      "\n",
      "Reconstruction Loss: 95.13171771590117 \tKL Loss: 4.00236921128194   \tVal PR_AUC 0.8851328254823931\n",
      "\n",
      "\n",
      "\tEpoch 16 \n",
      "Average Loss:  99.06490268585789\n",
      "\n",
      "Reconstruction Loss: 95.04187594857186 \tKL Loss: 4.023026631592185   \tVal PR_AUC 0.8830873985645546\n",
      "\n",
      "\n",
      "\tEpoch 17 \n",
      "Average Loss:  98.8477492800184\n",
      "\n",
      "Reconstruction Loss: 94.92233190840217 \tKL Loss: 3.9254172331208634   \tVal PR_AUC 0.8842326563357606\n",
      "\n",
      "\n",
      "\tEpoch 18 \n",
      "Average Loss:  98.87617039771597\n",
      "\n",
      "Reconstruction Loss: 94.90025444273736 \tKL Loss: 3.9759157812519437   \tVal PR_AUC 0.8867614765949365\n",
      "\n",
      "\n",
      "\tEpoch 19 \n",
      "Average Loss:  98.80723857515177\n",
      "\n",
      "Reconstruction Loss: 94.88293748600468 \tKL Loss: 3.924301028403507   \tVal PR_AUC 0.8838700816165665\n",
      "\n",
      "\n",
      "\tEpoch 20 \n",
      "Average Loss:  98.82996484063993\n",
      "\n",
      "Reconstruction Loss: 94.85761567134007 \tKL Loss: 3.9723493430265195   \tVal PR_AUC 0.8841124373607916\n",
      "\n",
      "\n",
      "\tEpoch 21 \n",
      "Average Loss:  98.78887601232833\n",
      "\n",
      "Reconstruction Loss: 94.85046717163864 \tKL Loss: 3.938408986474298   \tVal PR_AUC 0.8819588799996954\n",
      "\n",
      "\n",
      "\tEpoch 22 \n",
      "Average Loss:  98.69024106165406\n",
      "\n",
      "Reconstruction Loss: 94.79758409633757 \tKL Loss: 3.8926572423072376   \tVal PR_AUC 0.8829429267781191\n",
      "\n",
      "\n",
      "\tEpoch 23 \n",
      "Average Loss:  98.61451143884355\n",
      "\n",
      "Reconstruction Loss: 94.71917790698397 \tKL Loss: 3.8953334662565   \tVal PR_AUC 0.8827346438491335\n",
      "\n",
      "\n",
      "\tEpoch 24 \n",
      "Average Loss:  98.66358471524184\n",
      "\n",
      "Reconstruction Loss: 94.71191542315636 \tKL Loss: 3.9516691475157524   \tVal PR_AUC 0.8819134796377845\n",
      "\n",
      "\n",
      "\tEpoch 25 \n",
      "Average Loss:  98.50284322750797\n",
      "\n",
      "Reconstruction Loss: 94.56045784919884 \tKL Loss: 3.9423852896234792   \tVal PR_AUC 0.8839375332635152\n",
      "\n",
      "\n",
      "\tEpoch 26 \n",
      "Average Loss:  98.59968666028065\n",
      "\n",
      "Reconstruction Loss: 94.59805192886644 \tKL Loss: 4.001634289200898   \tVal PR_AUC 0.8834062626150462\n",
      "\n",
      "\n",
      "\tEpoch 27 \n",
      "Average Loss:  98.42270729405105\n",
      "\n",
      "Reconstruction Loss: 94.46784901224125 \tKL Loss: 3.954858722808255   \tVal PR_AUC 0.8833062387908854\n",
      "\n",
      "\n",
      "\tEpoch 28 \n",
      "Average Loss:  98.42156904670084\n",
      "\n",
      "Reconstruction Loss: 94.37972517074293 \tKL Loss: 4.041843640272784   \tVal PR_AUC 0.8840497840477433\n",
      "\n",
      "\n",
      "\tEpoch 29 \n",
      "Average Loss:  98.40453611726214\n",
      "\n",
      "Reconstruction Loss: 94.31977095877289 \tKL Loss: 4.084765032142591   \tVal PR_AUC 0.8822673424843304\n",
      "\n",
      "\n",
      "\tEpoch 30 \n",
      "Average Loss:  98.2085811153339\n",
      "\n",
      "Reconstruction Loss: 94.28075740352558 \tKL Loss: 3.9278240556170227   \tVal PR_AUC 0.8842938684102521\n",
      "\n",
      "\n",
      "\tEpoch 31 \n",
      "Average Loss:  98.10882669436704\n",
      "\n",
      "Reconstruction Loss: 94.17819019487709 \tKL Loss: 3.9306364922007178   \tVal PR_AUC 0.8839488214260758\n",
      "\n",
      "\n",
      "\tEpoch 32 \n",
      "Average Loss:  98.4219645700637\n",
      "\n",
      "Reconstruction Loss: 94.32654313980395 \tKL Loss: 4.095421551746927   \tVal PR_AUC 0.8832512536267205\n",
      "\n",
      "\n",
      "\tEpoch 33 \n",
      "Average Loss:  98.22041863119526\n",
      "\n",
      "Reconstruction Loss: 94.30616633907245 \tKL Loss: 3.9142521949330713   \tVal PR_AUC 0.8809982502899891\n",
      "\n",
      "\n",
      "\tEpoch 34 \n",
      "Average Loss:  98.43776995421975\n",
      "\n",
      "Reconstruction Loss: 94.3125217316257 \tKL Loss: 4.125248392676093   \tVal PR_AUC 0.8821846704455694\n",
      "\n",
      "\n",
      "\tEpoch 35 \n",
      "Average Loss:  98.20341987366889\n",
      "\n",
      "Reconstruction Loss: 94.17461345696906 \tKL Loss: 4.028806620798293   \tVal PR_AUC 0.877819323700705\n",
      "\n",
      "\n",
      "\tEpoch 36 \n",
      "Average Loss:  98.24365642571905\n",
      "\n",
      "Reconstruction Loss: 94.17284141589123 \tKL Loss: 4.0708148603986025   \tVal PR_AUC 0.8826744113110101\n",
      "\n",
      "\n",
      "\tEpoch 37 \n",
      "Average Loss:  97.9990116192277\n",
      "\n",
      "Reconstruction Loss: 94.00237146851363 \tKL Loss: 3.9966398688638285   \tVal PR_AUC 0.8849672285784651\n",
      "\n",
      "\n",
      "\tEpoch 38 \n",
      "Average Loss:  98.0559552429588\n",
      "\n",
      "Reconstruction Loss: 94.19156766271895 \tKL Loss: 3.8643877940572753   \tVal PR_AUC 0.8836199788298018\n",
      "\n",
      "\n",
      "\tEpoch 39 \n",
      "Average Loss:  98.27549590092556\n",
      "\n",
      "Reconstruction Loss: 94.21268909235668 \tKL Loss: 4.062806651850415   \tVal PR_AUC 0.8821891946194302\n",
      "\n",
      "\n",
      "\tEpoch 40 \n",
      "Average Loss:  97.9206135938122\n",
      "\n",
      "Reconstruction Loss: 94.07004950456559 \tKL Loss: 3.850564174287638   \tVal PR_AUC 0.8839669711252347\n",
      "\n",
      "\n",
      "\tEpoch 41 \n",
      "Average Loss:  97.94936772243233\n",
      "\n",
      "Reconstruction Loss: 94.02230924375498 \tKL Loss: 3.9270583280332527   \tVal PR_AUC 0.8833942856357624\n",
      "\n",
      "\n",
      "\tEpoch 42 \n",
      "Average Loss:  98.04985670344844\n",
      "\n",
      "Reconstruction Loss: 94.07756091075338 \tKL Loss: 3.972295801199166   \tVal PR_AUC 0.8836323644815971\n",
      "\n",
      "\n",
      "\tEpoch 43 \n",
      "Average Loss:  97.9683421918541\n",
      "\n",
      "Reconstruction Loss: 94.01797112142964 \tKL Loss: 3.9503712575147105   \tVal PR_AUC 0.883535786064368\n",
      "\n",
      "\n",
      "\tEpoch 44 \n",
      "Average Loss:  98.13932561206211\n",
      "\n",
      "Reconstruction Loss: 94.13365735096536 \tKL Loss: 4.005668074006487   \tVal PR_AUC 0.8827753452509135\n",
      "\n",
      "\n",
      "\tEpoch 45 \n",
      "Average Loss:  98.15250908918442\n",
      "\n",
      "Reconstruction Loss: 94.13092379235917 \tKL Loss: 4.0215853502795955   \tVal PR_AUC 0.8815692309677212\n",
      "\n",
      "\n",
      "\tEpoch 46 \n",
      "Average Loss:  97.84316822222084\n",
      "\n",
      "Reconstruction Loss: 93.92040646303991 \tKL Loss: 3.922761376496333   \tVal PR_AUC 0.8803321682562091\n",
      "\n",
      "\n",
      "\tEpoch 47 \n",
      "Average Loss:  98.10262147939889\n",
      "\n",
      "Reconstruction Loss: 94.11069067693819 \tKL Loss: 3.9919307149899232   \tVal PR_AUC 0.8817787026131989\n",
      "\n",
      "\n",
      "\tEpoch 48 \n",
      "Average Loss:  98.04727351680683\n",
      "\n",
      "Reconstruction Loss: 94.10127940572751 \tKL Loss: 3.9459942544341846   \tVal PR_AUC 0.8821105446387278\n",
      "\n",
      "\n",
      "\tEpoch 49 \n",
      "Average Loss:  97.92771738623358\n",
      "\n",
      "Reconstruction Loss: 94.01367265251791 \tKL Loss: 3.9140447823105347   \tVal PR_AUC 0.8793976117234958\n",
      "\n",
      "\n",
      "\tEpoch 50 \n",
      "Average Loss:  97.91929935528215\n",
      "\n",
      "Reconstruction Loss: 93.93283104380225 \tKL Loss: 3.9864683479260488   \tVal PR_AUC 0.8831752238445825\n",
      "\n",
      "\n",
      "Training complete!\n"
     ]
    }
   ],
   "source": [
    "#Train the VAE - objective : min KL Loss, max PR-AUC score\n",
    "\n",
    "def compute_val_metric(model, val_loader):\n",
    "    losses, targets = [], []\n",
    "    with torch.no_grad():\n",
    "        model.eval()\n",
    "        for batch_idx, val_data in enumerate(val_loader):\n",
    "            x, y = val_data\n",
    "            if x.size()[0] == 10:\n",
    "                #x = x.view(batch_size, x_dim)\n",
    "                x = torch.unsqueeze(x,1)\n",
    "                x = x.to(DEVICE)\n",
    "                outputs, mu, log_sigma,z = model.forward(x)\n",
    "                outputs = outputs.view(10,26*26) #batch_size, x_dim\n",
    "                x = x.view(10,26*26) #batch_size, x_dim\n",
    "                loss, reconstruction_loss, kl_loss = loss_function(x, outputs,mu, log_sigma, reduce = False)\n",
    "                losses.append(loss)\n",
    "                targets.append(y)\n",
    "                \n",
    "    scores = torch.stack(losses, axis=0).view(-1)\n",
    "    targs = torch.stack(targets, axis=0).view(-1)\n",
    "    #scale the scores - min-max scaling (for the predicted probabilities)\n",
    "    scores = (scores - scores.min())/(scores.max() - scores.min())\n",
    "    scores = scores.cpu().detach().numpy()\n",
    "    fpr, tpr, roc_thresholds = roc_curve(targs, scores)\n",
    "    precision, recall, pr_thresholds = precision_recall_curve(targs, scores)\n",
    "    roc_auc = auc(fpr, tpr)\n",
    "    pr_auc = auc(recall, precision)\n",
    "    \n",
    "    return fpr,tpr,precision,recall,roc_auc,pr_auc, pr_thresholds, roc_thresholds\n",
    "\n",
    "optimizer = Adam(conv_vae.parameters(), lr=lr)\n",
    "print(\"Start training VAE...\")\n",
    "\n",
    "conv_vae.train()\n",
    "\n",
    "for epoch in range(epochs):\n",
    "    overall_loss = 0\n",
    "    overall_reconstr_loss = 0\n",
    "    overall_kl_loss = 0\n",
    "    for batch_idx, data in enumerate(train_dataloader):\n",
    "        x, y = data\n",
    "        if x.size()[0] == 10:\n",
    "            #x = x.view(batch_size, x_dim)\n",
    "            x = torch.unsqueeze(x,1)\n",
    "            x = x.to(DEVICE)\n",
    "            optimizer.zero_grad()\n",
    "            x_reconstr, mu, log_sigma, z = conv_vae(x)\n",
    "            loss, reconstr_loss, kl_loss = loss_function(x, x_reconstr, mu, log_sigma)\n",
    "\n",
    "            overall_loss += loss.item()\n",
    "            overall_reconstr_loss += reconstr_loss.item()\n",
    "            overall_kl_loss += kl_loss.item()\n",
    "\n",
    "            loss.backward()\n",
    "            optimizer.step()\n",
    "        \n",
    "    n_datapoints = batch_idx * batch_size\n",
    "    fpr,tpr,precision,recall,roc_auc,pr_auc, pr_thresholds, roc_thresholds = compute_val_metric(conv_vae,val_dataloader)\n",
    "\n",
    "\n",
    "    \n",
    "    \n",
    "    \n",
    "    print(\"\\tEpoch\", epoch + 1, \"\\nAverage Loss: \", overall_loss / n_datapoints)\n",
    "    print(\"\\nReconstruction Loss:\", overall_reconstr_loss / n_datapoints, \"\\tKL Loss:\", overall_kl_loss / n_datapoints, \n",
    "         \"  \\tVal PR_AUC\", pr_auc)\n",
    "    print('\\n')\n",
    "    \n",
    "print(\"Training complete!\")"
   ]
  },
  {
   "cell_type": "code",
   "execution_count": 61,
   "id": "1f423032",
   "metadata": {},
   "outputs": [],
   "source": [
    "# We will have to evaluate our VAE and visualize some reconstructed images\n",
    "\n",
    "#Visualizing the out of distribution datapoints:\n",
    "def show_images(x, ncols=10):\n",
    "    x = x.view(-1, 26, 26)\n",
    "\n",
    "    fig, ax = plt.subplots(1, ncols, figsize=(20, 2))\n",
    "    for idx in range(ncols):\n",
    "        ax[idx].imshow(x[idx].cpu().numpy())\n",
    "        ax[idx].axis('off')\n",
    "    plt.show()\n",
    "\n",
    "\n",
    "\n",
    "\n",
    "def detect_shift(model, data_loader, target_flag):\n",
    "    elbo_list = []\n",
    "    recon_list = []\n",
    "    model.eval()\n",
    "    with torch.no_grad():\n",
    "        for batch_idx, _data in enumerate(data_loader):\n",
    "            if target_flag == True:\n",
    "                x, y = _data\n",
    "            else:\n",
    "                x = _data\n",
    "            if x.size()[0] == 10:\n",
    "                #x = x.view(batch_size, x_dim)\n",
    "                x = torch.unsqueeze(x,1)\n",
    "                x = x.to(DEVICE)\n",
    "                outputs, mu, log_sigma,z = model.forward(x)\n",
    "                outputs = outputs.view(10,26*26) #batch_size, x_dim\n",
    "                x = x.view(10,26*26) #batch_size, x_dim\n",
    "                loss, reconstruction_loss, kl_loss = loss_function(x, outputs,mu, log_sigma, reduce = False)\n",
    "                elbo_list.append(loss.cpu().numpy())\n",
    "                recon_list.append(reconstruction_loss.cpu().numpy())\n",
    "#                 show_images(outputs)\n",
    "                \n",
    "                \n",
    "    elbo_ = np.concatenate(elbo_list, 0)\n",
    "    recon_ = np.concatenate(recon_list, 0)\n",
    "    return elbo_, recon_       "
   ]
  },
  {
   "cell_type": "code",
   "execution_count": 89,
   "id": "2ba6b2e6",
   "metadata": {},
   "outputs": [
    {
     "data": {
      "image/png": "[encoded data removed]",
      "text/plain": [
       "<Figure size 432x288 with 1 Axes>"
      ]
     },
     "metadata": {
      "needs_background": "light"
     },
     "output_type": "display_data"
    },
    {
     "data": {
      "image/png": "[encoded data removed]",
      "text/plain": [
       "<Figure size 432x288 with 1 Axes>"
      ]
     },
     "metadata": {
      "needs_background": "light"
     },
     "output_type": "display_data"
    },
    {
     "data": {
      "image/png": "[encoded data removed]",
      "text/plain": [
       "<Figure size 432x288 with 1 Axes>"
      ]
     },
     "metadata": {
      "needs_background": "light"
     },
     "output_type": "display_data"
    }
   ],
   "source": [
    "#Let us investigate the labelled production data and see if see anything\n",
    "\n",
    "\n",
    "#Results PROD SET 1\n",
    "\n",
    "import seaborn as sns\n",
    "\n",
    "elbo_train, recon_train = detect_shift(conv_vae, train_dataloader, target_flag = True)\n",
    "\n",
    "elbo_prod_lab, recon_prod_lab = detect_shift(conv_vae, prod_dataloader_lab1, target_flag = True )\n",
    "\n",
    "\n",
    "\n",
    "sns.kdeplot(elbo_train, color='green')\n",
    "sns.kdeplot(elbo_prod_lab, color='red')\n",
    "plt.show()\n",
    "\n",
    "\n",
    "plt.hist([elbo_train, elbo_prod_lab], 100, color=['r', 'g'])\n",
    "plt.show()\n",
    "\n",
    "\n",
    "plt.hist([recon_train, recon_prod_lab], 100, color=['r', 'g'])\n",
    "plt.show()\n",
    "\n",
    "\n"
   ]
  },
  {
   "cell_type": "code",
   "execution_count": 90,
   "id": "e9d85fd0",
   "metadata": {},
   "outputs": [
    {
     "name": "stdout",
     "output_type": "stream",
     "text": [
      "KstestResult(statistic=0.06312265229462681, pvalue=0.029747552967248625)\n"
     ]
    }
   ],
   "source": [
    "#KS TEST\n",
    "\n",
    "from scipy import stats\n",
    "\n",
    "test_1 = stats.kstest(elbo_train, elbo_prod_lab)\n",
    "print(test_1)"
   ]
  },
  {
   "cell_type": "code",
   "execution_count": 92,
   "id": "9e4f996d",
   "metadata": {},
   "outputs": [
    {
     "data": {
      "image/png": "[encoded data removed]",
      "text/plain": [
       "<Figure size 432x288 with 1 Axes>"
      ]
     },
     "metadata": {
      "needs_background": "light"
     },
     "output_type": "display_data"
    },
    {
     "data": {
      "image/png": "[encoded data removed]",
      "text/plain": [
       "<Figure size 432x288 with 1 Axes>"
      ]
     },
     "metadata": {
      "needs_background": "light"
     },
     "output_type": "display_data"
    },
    {
     "data": {
      "image/png": "[encoded data removed]",
      "text/plain": [
       "<Figure size 432x288 with 1 Axes>"
      ]
     },
     "metadata": {
      "needs_background": "light"
     },
     "output_type": "display_data"
    },
    {
     "name": "stdout",
     "output_type": "stream",
     "text": [
      "KstestResult(statistic=0.04467581251020741, pvalue=0.23998662031822404)\n"
     ]
    }
   ],
   "source": [
    "\n",
    "#RESULTS PROD SET 2\n",
    "\n",
    "import seaborn as sns\n",
    "\n",
    "elbo_train, recon_train = detect_shift(conv_vae, train_dataloader, target_flag = True)\n",
    "\n",
    "elbo_prod_lab, recon_prod_lab = detect_shift(conv_vae, prod_dataloader_lab2, target_flag = True )\n",
    "\n",
    "\n",
    "\n",
    "sns.kdeplot(elbo_train, color='green')\n",
    "sns.kdeplot(elbo_prod_lab, color='red')\n",
    "plt.show()\n",
    "\n",
    "\n",
    "plt.hist([elbo_train, elbo_prod_lab], 100, color=['r', 'g'])\n",
    "plt.show()\n",
    "\n",
    "\n",
    "plt.hist([recon_train, recon_prod_lab], 100, color=['r', 'g'])\n",
    "plt.show()\n",
    "\n",
    "\n",
    "# KS TEST\n",
    "\n",
    "from scipy import stats\n",
    "\n",
    "test_2 = stats.kstest(elbo_train, elbo_prod_lab)\n",
    "print(test_2)"
   ]
  },
  {
   "cell_type": "code",
   "execution_count": 93,
   "id": "2d591798",
   "metadata": {},
   "outputs": [
    {
     "data": {
      "image/png": "[encoded data removed]",
      "text/plain": [
       "<Figure size 432x288 with 1 Axes>"
      ]
     },
     "metadata": {
      "needs_background": "light"
     },
     "output_type": "display_data"
    },
    {
     "data": {
      "image/png": "[encoded data removed]",
      "text/plain": [
       "<Figure size 432x288 with 1 Axes>"
      ]
     },
     "metadata": {
      "needs_background": "light"
     },
     "output_type": "display_data"
    },
    {
     "data": {
      "image/png": "[encoded data removed]",
      "text/plain": [
       "<Figure size 432x288 with 1 Axes>"
      ]
     },
     "metadata": {
      "needs_background": "light"
     },
     "output_type": "display_data"
    },
    {
     "name": "stdout",
     "output_type": "stream",
     "text": [
      "KstestResult(statistic=0.04141760574881594, pvalue=0.32160995857368146)\n"
     ]
    }
   ],
   "source": [
    "\n",
    "#RESULTS PROD SET 3\n",
    "\n",
    "import seaborn as sns\n",
    "\n",
    "elbo_train, recon_train = detect_shift(conv_vae, train_dataloader, target_flag = True)\n",
    "\n",
    "elbo_prod_lab, recon_prod_lab = detect_shift(conv_vae, prod_dataloader_lab3, target_flag = True )\n",
    "\n",
    "\n",
    "\n",
    "sns.kdeplot(elbo_train, color='green')\n",
    "sns.kdeplot(elbo_prod_lab, color='red')\n",
    "plt.show()\n",
    "\n",
    "\n",
    "plt.hist([elbo_train, elbo_prod_lab], 100, color=['r', 'g'])\n",
    "plt.show()\n",
    "\n",
    "\n",
    "plt.hist([recon_train, recon_prod_lab], 100, color=['r', 'g'])\n",
    "plt.show()\n",
    "\n",
    "\n",
    "# KS TEST\n",
    "\n",
    "from scipy import stats\n",
    "\n",
    "test_3 = stats.kstest(elbo_train, elbo_prod_lab)\n",
    "print(test_3)"
   ]
  },
  {
   "cell_type": "code",
   "execution_count": 94,
   "id": "fdab10fa",
   "metadata": {},
   "outputs": [
    {
     "data": {
      "image/png": "[encoded data removed]",
      "text/plain": [
       "<Figure size 432x288 with 1 Axes>"
      ]
     },
     "metadata": {
      "needs_background": "light"
     },
     "output_type": "display_data"
    },
    {
     "data": {
      "image/png": "[encoded data removed]",
      "text/plain": [
       "<Figure size 432x288 with 1 Axes>"
      ]
     },
     "metadata": {
      "needs_background": "light"
     },
     "output_type": "display_data"
    },
    {
     "data": {
      "image/png": "[encoded data removed]",
      "text/plain": [
       "<Figure size 432x288 with 1 Axes>"
      ]
     },
     "metadata": {
      "needs_background": "light"
     },
     "output_type": "display_data"
    }
   ],
   "source": [
    "#Now we investigate the unlabelled data\n",
    "\n",
    "elbo_prod_unlab, recon_prod_unlab = detect_shift(conv_vae, prod_dataloader_unlab, target_flag = False )\n",
    "\n",
    "\n",
    "plt.hist([elbo_train, elbo_prod_unlab], 100, color=['r', 'g'])\n",
    "plt.show()\n",
    "\n",
    "\n",
    "plt.hist([recon_train, recon_prod_unlab], 100, color=['r', 'g'])\n",
    "plt.show()\n",
    "\n",
    "\n",
    "sns.kdeplot(elbo_train, color='green')\n",
    "sns.kdeplot(elbo_prod_unlab, color='red')\n",
    "plt.show()\n",
    "\n"
   ]
  },
  {
   "cell_type": "code",
   "execution_count": 95,
   "id": "7d20a3ae",
   "metadata": {},
   "outputs": [
    {
     "name": "stdout",
     "output_type": "stream",
     "text": [
      "KstestResult(statistic=0.031893015221850375, pvalue=0.1771984069870911)\n"
     ]
    }
   ],
   "source": [
    "from scipy import stats\n",
    "\n",
    "test_4 = stats.kstest(elbo_train, elbo_prod_unlab)\n",
    "print(test_4)"
   ]
  },
  {
   "cell_type": "code",
   "execution_count": null,
   "id": "bb859924",
   "metadata": {},
   "outputs": [],
   "source": [
    "###############################################################################################################"
   ]
  },
  {
   "cell_type": "code",
   "execution_count": null,
   "id": "9c3d00f1",
   "metadata": {},
   "outputs": [],
   "source": [
    "#How does the model perform on the labelled production data?\n",
    "\n",
    "y_pred_prod_lab = deployed_classifier.predict(X_production_lab.reshape(X_production_lab.shape[0],\n",
    "                                                            X_production_lab.shape[1]*X_production_lab.shape[2]))\n",
    "\n",
    "recall_prod = recall_score(y_production_lab, y_pred_prod_lab)\n",
    "precision_prod = precision_score(y_production_lab, y_pred_prod_lab)\n",
    "\n",
    "f1_score_prod =  2 * (precision_prod * recall_prod) / (precision_prod + recall_prod)\n",
    "\n",
    "print(f'The mean recall score of the model on the production set is {recall_prod}')\n",
    "print(f'The mean precision score of the model on the production set is {precision_prod}')\n",
    "print(f'The mean F1 score of the model on the production set is {f1_score_prod}')"
   ]
  },
  {
   "cell_type": "markdown",
   "id": "fb68334e",
   "metadata": {},
   "source": [
    "So the false negativity rate of the classifier has increased.The relevant number of items retrieved is low.\n",
    "- The model still gives relatively low false positives \n",
    "- We get an indication that the model recognizes a pattern but for some images it is being predicted that there is no pattern and we should investigate this."
   ]
  },
  {
   "cell_type": "code",
   "execution_count": null,
   "id": "36e6f265",
   "metadata": {},
   "outputs": [],
   "source": [
    "#Investigate the ELBO Density plots for the Val and labelled and unlabelled production sets."
   ]
  },
  {
   "cell_type": "markdown",
   "id": "f898fb59",
   "metadata": {},
   "source": [
    "KS-Test : two-sided: The null hypothesis is that the two distributions are identical, F(x)=G(x) for all x; the alternative is that they are not identical."
   ]
  },
  {
   "cell_type": "code",
   "execution_count": null,
   "id": "3c5e4677",
   "metadata": {},
   "outputs": [],
   "source": [
    "from scipy import stats\n",
    "\n",
    "test_1 = stats.kstest(elbo_train, elbo_prod_lab)\n",
    "test_2 = stats.kstest(elbo_train, elbo_prod_unlab)\n",
    "\n",
    "print(test_1)\n",
    "print(test_2)"
   ]
  },
  {
   "cell_type": "markdown",
   "id": "686f598f",
   "metadata": {},
   "source": [
    "    p-value < 0.05, enough evidence to reject the null hypothesis - test_1.\n",
    "    p-value > 0.05, not enough evidence to reject the null hypothesis - test_2."
   ]
  },
  {
   "cell_type": "markdown",
   "id": "27e87aa2",
   "metadata": {},
   "source": [
    "We see that the performance of the model on the production set drops. From analyzing the density plots obtained by computing the ELBO (Evidence Lower Bound) of our Variational Autoencoder, and performing KS test on the ELBO (= likelihood scores) of the train and production datasets, we identify that these two distributions are indeed different and there is a shift occurring somewhere in the production labelled set.\n",
    "\n",
    "Given the ELBO (= approximate likelihood) scores, we can choose a threshold and classify all instances with a likelihood below the threshold as anomalies, and all instances with a likelihood above the threshold as \"normal\""
   ]
  },
  {
   "cell_type": "code",
   "execution_count": null,
   "id": "7c8ef109",
   "metadata": {},
   "outputs": [],
   "source": [
    "#//TODO : Identify the anamolies in the labelled production set."
   ]
  },
  {
   "cell_type": "code",
   "execution_count": null,
   "id": "7d25d483",
   "metadata": {},
   "outputs": [],
   "source": [
    "#Flip the ELBO Scores. \n",
    "# Anomalous flipped ELBO scores should be close to 1, whereas Normal Flipped ELBO scores should be close to 0\n",
    "\n",
    "elbo_prod_lab = (elbo_prod_lab - elbo_prod_lab.min())/(elbo_prod_lab.max() - elbo_prod_lab.min())"
   ]
  },
  {
   "cell_type": "code",
   "execution_count": null,
   "id": "a9c51395",
   "metadata": {},
   "outputs": [],
   "source": [
    "#Getting the PR-AUC curve for the labelled production dataset\n",
    "\n",
    "fpr,tpr,precision,recall,roc_auc,pr_auc, pr_thresholds, roc_thresholds = compute_val_metric(vae,prod_dataloader_lab)"
   ]
  },
  {
   "cell_type": "markdown",
   "id": "d0bdb011",
   "metadata": {},
   "source": [
    "We need to compute the best threshold for our model:\n",
    "    \n",
    "    We have a class imbalance (Counter({0: 1593, 1: 1636}))\n",
    "    - compute G-mean for the best threshold\n",
    "    - test the model with each threshold returned from the call roc_auc_score() and\n",
    "      select the threshold with the largest G-Mean value"
   ]
  },
  {
   "cell_type": "code",
   "execution_count": null,
   "id": "6eb29021",
   "metadata": {},
   "outputs": [],
   "source": [
    "gmeans = (tpr * (1-fpr))**(1/2)\n",
    "ix = np.argmax(gmeans)\n",
    "print('Best Threshold=%f, G-Mean=%.3f' % (roc_thresholds[ix], gmeans[ix]))"
   ]
  },
  {
   "cell_type": "code",
   "execution_count": null,
   "id": "bdc4a9ad",
   "metadata": {},
   "outputs": [],
   "source": [
    "print(f'{roc_auc=}')\n",
    "plt.figure()\n",
    "plt.plot(fpr, tpr, lw=2, label=f'ROC curve (area = {roc_auc:.2f})')\n",
    "plt.plot([0, 1], [0, 1], lw=1, linestyle=\"--\")\n",
    "plt.scatter(fpr[ix], tpr[ix], marker='o', color='red', label='Best Threshold')\n",
    "plt.xlim([0.0, 1.0])\n",
    "plt.ylim([0.0, 1.0])\n",
    "plt.xlabel('False Positive Rate')\n",
    "plt.ylabel('True Positive Rate')\n",
    "plt.title('ROC curve for anomaly detection')\n",
    "plt.legend(loc='lower right')\n",
    "plt.show()"
   ]
  },
  {
   "cell_type": "markdown",
   "id": "c9a3e00a",
   "metadata": {},
   "source": [
    "ROC Curve: Interpretation\n",
    "\n",
    "    Smaller values on the x-axis of the plot indicate lower false positives and higher true negatives.\n",
    "    Larger values on the y-axis of the plot indicate higher true positives and lower false negatives."
   ]
  },
  {
   "cell_type": "code",
   "execution_count": null,
   "id": "29dcfced",
   "metadata": {},
   "outputs": [],
   "source": [
    "#Best Threshold for PR-Curve\n",
    "fscore = (2 * precision * recall) / (precision + recall)\n",
    "# locate the index of the largest f score\n",
    "ix = np.argmax(fscore)\n",
    "print('Best Threshold=%f, F-Score=%.3f' % (pr_thresholds[ix], fscore[ix]))"
   ]
  },
  {
   "cell_type": "code",
   "execution_count": null,
   "id": "8180df11",
   "metadata": {},
   "outputs": [],
   "source": [
    "print(f'{pr_auc=}')\n",
    "plt.figure()\n",
    "plt.plot(recall, precision, lw=2, label=f'Precision-Recall curve (area = {pr_auc:.2f})')\n",
    "plt.scatter(recall[ix], precision[ix], marker='o', color='red', label='Best Threshold')\n",
    "plt.xlim([0.0, 1.0])\n",
    "plt.ylim([0.0, 1.0])\n",
    "plt.xlabel('Recall')\n",
    "plt.ylabel('Precision')\n",
    "plt.title('Precision-Recall curve for anomaly detection')\n",
    "plt.legend(loc='lower left')\n",
    "plt.show()"
   ]
  },
  {
   "cell_type": "code",
   "execution_count": null,
   "id": "eebad0e1",
   "metadata": {},
   "outputs": [],
   "source": [
    "#Threshold calibration: The threshold will define the TP/FP etc rate.\n",
    "\n",
    "#There is not enough imbalance so we will look at the best threshold from the ROC curve \n",
    "\n",
    "thresh = 0.214253\n",
    "ood_vals = [i for i in elbo_prod_lab if i > thresh]"
   ]
  },
  {
   "cell_type": "code",
   "execution_count": null,
   "id": "031a2f7d",
   "metadata": {},
   "outputs": [],
   "source": [
    "#Out of distribution datapoints\n",
    "ood_datapoints = [i for i in range(len(elbo_prod_lab)) if elbo_prod_lab[i] > thresh]"
   ]
  },
  {
   "cell_type": "code",
   "execution_count": null,
   "id": "e60b23b0",
   "metadata": {
    "scrolled": true
   },
   "outputs": [],
   "source": [
    "print(f'Number of out of distribution datapoints are {len(ood_datapoints)} out of total {len(elbo_prod_lab)} datapoints')"
   ]
  },
  {
   "cell_type": "code",
   "execution_count": null,
   "id": "a5209ec8",
   "metadata": {},
   "outputs": [],
   "source": [
    "X_production_ood_list = []\n",
    "y_production_ood_label_list = []\n",
    "for idx in ood_datapoints:\n",
    "    X_production_ood_list.append(X_production_lab[idx])\n",
    "    y_production_ood_label_list.append(y_production_lab[idx])\n",
    "\n",
    "X_production_ood = np.array(X_production_ood_list)\n",
    "y_production_ood = np.array(y_production_ood_label_list)"
   ]
  },
  {
   "cell_type": "code",
   "execution_count": null,
   "id": "b22bff54",
   "metadata": {},
   "outputs": [],
   "source": [
    "ood_dataset = CreateDataset(X_production_ood, y_production_ood)\n",
    "ood_dataloader =  torch.utils.data.DataLoader(ood_dataset, batch_size=10)"
   ]
  },
  {
   "cell_type": "code",
   "execution_count": null,
   "id": "afba4bfd",
   "metadata": {
    "scrolled": true
   },
   "outputs": [],
   "source": [
    "#Visualizing the out of distribution datapoints:\n",
    "def show_images(x, ncols=10):\n",
    "    x = x.view(-1, 26, 26)\n",
    "\n",
    "    fig, ax = plt.subplots(1, ncols, figsize=(20, 2))\n",
    "    for idx in range(ncols):\n",
    "        ax[idx].imshow(x[idx].detach().numpy())\n",
    "        ax[idx].axis('off')\n",
    "    plt.show()\n",
    "\n",
    "for idx, data in enumerate(ood_dataloader):\n",
    "    x, y = data\n",
    "    try:\n",
    "        show_images(x)\n",
    "    except IndexError:\n",
    "        break"
   ]
  },
  {
   "cell_type": "code",
   "execution_count": null,
   "id": "80721c6b",
   "metadata": {},
   "outputs": [],
   "source": [
    "#Now what we can do is update the train set with the production set\n",
    "#We can do a case analysis for the performance of the classifier\n",
    "\n",
    "# a) Train on the entire labelled production data + train set --> check the performance\n",
    "# b) Train on the ood data + train set ---> check the performance\n",
    "\n"
   ]
  },
  {
   "cell_type": "code",
   "execution_count": null,
   "id": "590b3b60",
   "metadata": {},
   "outputs": [],
   "source": []
  },
  {
   "cell_type": "code",
   "execution_count": null,
   "id": "8c06ec30",
   "metadata": {},
   "outputs": [],
   "source": []
  },
  {
   "cell_type": "code",
   "execution_count": null,
   "id": "b27fbad3",
   "metadata": {},
   "outputs": [],
   "source": []
  },
  {
   "cell_type": "code",
   "execution_count": null,
   "id": "de46dec2",
   "metadata": {},
   "outputs": [],
   "source": []
  },
  {
   "cell_type": "code",
   "execution_count": null,
   "id": "1894f4ed",
   "metadata": {},
   "outputs": [],
   "source": []
  },
  {
   "cell_type": "markdown",
   "id": "5ff8447f",
   "metadata": {},
   "source": [
    "## Part 2: address the data mining objective\n",
    "\n",
    "Address the *common* data mining objective and document your findings in the report. You are free to use any approach you like. To get started you may read the required reading in the slides on Dataset Shift and follow the cited papers.\n",
    "\n",
    "<br/>\n",
    "<div style=\"padding: 15px; border: 1px solid transparent; border-color: transparent; margin-bottom: 20px; border-radius: 4px; color: #a94442; background-color: #f2dede; border-color: #ebccd1;\n",
    "\">\n",
    "For this assignment only your report will be graded. While your code will not be graded directly, any results and figures in your report must be generated by your code below.\n",
    "</div>"
   ]
  },
  {
   "cell_type": "code",
   "execution_count": null,
   "id": "5ddb1c15",
   "metadata": {},
   "outputs": [],
   "source": [
    "#// BEGIN_TODO [CODE] (0 points)\n",
    "\n",
    "# ===== =====> Replace this line by your code. <===== ===== #\n"
   ]
  },
  {
   "cell_type": "code",
   "execution_count": null,
   "id": "4a25860f",
   "metadata": {},
   "outputs": [],
   "source": [
    "#// END_TODO [CODE]"
   ]
  },
  {
   "cell_type": "markdown",
   "id": "73c1e555",
   "metadata": {},
   "source": [
    "# Feedback\n",
    "\n",
    "Please fill in this questionaire to help us improve this course for the next year. Your feedback will be anonymized and will not affect your grade in any way!"
   ]
  },
  {
   "cell_type": "markdown",
   "id": "f4323869",
   "metadata": {},
   "source": [
    "### How many hours did you spend on this assignment?\n",
    "\n",
    "Assign a number to variable `feedback_time`."
   ]
  },
  {
   "cell_type": "code",
   "execution_count": null,
   "id": "7e209271",
   "metadata": {},
   "outputs": [],
   "source": [
    "#// BEGIN_FEEDBACK [Feedback_1] (0 points)\n",
    "\n",
    "#// END_FEEDBACK [Feedback_1]\n",
    "\n",
    "import numbers\n",
    "assert isinstance(feedback_time, numbers.Number), \"Please assign a number to variable feedback_time\""
   ]
  },
  {
   "cell_type": "markdown",
   "id": "92df9e1a",
   "metadata": {},
   "source": [
    "### How difficult did you find this assignment?\n",
    "\n",
    "Assign an integer to variable `feedback_difficulty`, on a scale 0 - 10, with 0 being very easy, 5 being just right, and 10 being very difficult."
   ]
  },
  {
   "cell_type": "code",
   "execution_count": null,
   "id": "c44da128",
   "metadata": {},
   "outputs": [],
   "source": [
    "#// BEGIN_FEEDBACK [Feedback_2] (0 points)\n",
    "\n",
    "#// END_FEEDBACK [Feedback_2]\n",
    "\n",
    "assert isinstance(feedback_difficulty, numbers.Number), \"Please assign a number to variable feedback_difficulty\""
   ]
  },
  {
   "cell_type": "markdown",
   "id": "e3790e84",
   "metadata": {},
   "source": [
    "### (Optional) What did you like?\n",
    "\n",
    "Assign a string to variable `feedback_like`."
   ]
  },
  {
   "cell_type": "code",
   "execution_count": null,
   "id": "78831b99",
   "metadata": {},
   "outputs": [],
   "source": [
    "#// BEGIN_FEEDBACK [Feedback_5] (0 points)\n",
    "\n",
    "#// END_FEEDBACK [Feedback_5]"
   ]
  },
  {
   "cell_type": "markdown",
   "id": "e0b74a0b",
   "metadata": {},
   "source": [
    "### (Optional) What can be improved?\n",
    "\n",
    "Assign a string to variable `feedback_improve`. Please be specific, so that we can act on your feedback."
   ]
  },
  {
   "cell_type": "code",
   "execution_count": null,
   "id": "09c79c04",
   "metadata": {},
   "outputs": [],
   "source": [
    "#// BEGIN_FEEDBACK [Feedback_6] (0 points)\n",
    "\n",
    "#// END_FEEDBACK [Feedback_6]"
   ]
  }
 ],
 "metadata": {
  "hide_input": false,
  "kernelspec": {
   "display_name": "Python 3 (ipykernel)",
   "language": "python",
   "name": "python3"
  },
  "language_info": {
   "codemirror_mode": {
    "name": "ipython",
    "version": 3
   },
   "file_extension": ".py",
   "mimetype": "text/x-python",
   "name": "python",
   "nbconvert_exporter": "python",
   "pygments_lexer": "ipython3",
   "version": "3.8.13"
  },
  "toc": {
   "base_numbering": 1,
   "nav_menu": {},
   "number_sections": false,
   "sideBar": true,
   "skip_h1_title": false,
   "title_cell": "Table of Contents",
   "title_sidebar": "Contents",
   "toc_cell": false,
   "toc_position": {},
   "toc_section_display": true,
   "toc_window_display": true
  }
 },
 "nbformat": 4,
 "nbformat_minor": 5
}
