{
 "cells": [
  {
   "cell_type": "markdown",
   "id": "286495c6",
   "metadata": {},
   "source": [
    "# Dataset shift\n",
    "\n",
    "In the previous assignment you have worked with wafer map data from a semiconductor manufacturing process, and developed a calibrated binary classifier for identifying whether a finished wafer contains a known pattern of faulty chips.\n",
    "\n",
    "Imagine the company has evaluated several classifiers and deployed one of them in production, as part of a larger system for identifying the root causes of faulty chips. The root cause analysis relies on the expertise of human operators. When the root cause of faulty chips on a wafer can be identified, the process parameters can be adjusted, reducing the number of faulty chips and increasing wafer yield.\n",
    "\n",
    "Ideally, the company would like all wafers to be analyzed by the operators, however, their capacity is limited. Therefore, the classifier is used as part of a filtering stage to select wafers which are suitable for further analysis by the operators, based on whether the wafers contain a known pattern of faulty chips.\n",
    "\n",
    "After a month, the company observes degrading wafer yield. They suspect it is due to a drop in classification performance of the classifier: missing wafers that are suitable for further analysis will prevent the operators from identifying the root causes of faulty chips and adapting the process parameters, resulting in more faults and lower yield. Your task is to investigate this suspicion.\n",
    "\n",
    "#### Overview\n",
    "\n",
    "You are given two datasets: a labeled *training* set that represents the data used to train the classifier and a partially labeled *production* set representing the data collected after the model was deployed in production. Both datasets are based on the WM-811K dataset containing annotated wafer maps collected from real-world fabrication (see `./data/readme.txt`).\n",
    "\n",
    "You are also given the implementation of the deployed classifier.\n",
    "\n",
    "The assignment consists of two parts:\n",
    "\n",
    "- Part 1 is about defining the data mining objective.\n",
    "- Part 2 is about addressing the data mining objective.\n",
    "\n",
    "#### Deliverables\n",
    "\n",
    "There are two deliverables for this assignment:\n",
    "\n",
    "- Report: it should be max 4 pages long (double column). It's structure should follow the CRISP-DM process. A template is provided in the assignment on Canvas. The report will be graded.\n",
    "- This notebook: it must contain all the supporting material for the report, i.e. all the results and figures must be generated in this notebook. This notebook will not be graded, however, missing supporting material for the report will affect the grade of the report.\n",
    "\n",
    "Deliver a `.zip` archive with three files:\n",
    "\n",
    "- `dataset_shift_<groupid>.pdf` file containing the report,\n",
    "- `dataset_shift_<groupid>.ipynb` file containing this filled in **and executed** notebook,\n",
    "- `dataset_shift_<groupid>.html` file containing this filled in **and executed** notebook rendered to html,\n",
    "\n",
    "by submitting it to the corresponding assignment on Canvas. `<groupid>` refers to your group number on Canvas. You may submit as many times as you like before the deadline. The last submission counts.\n",
    "\n",
    "Throughout this notebook you will find cells starting `# // BEGIN_TODO`.\n",
    "\n",
    "- Fill in all your code between these `# // BEGIN_TODO [Q0]` and `# // END_TODO [Q0]` tags.\n",
    "- Do not edit these tags in any way, or else your answers may not be processed by the grading system.\n",
    "- You can add as many code and text cells as you want between the `# // BEGIN_TODO [Q0]` and `# // END_TODO [Q0]` tags to make your code nicely readable.\n",
    "- Unlike the previous assignment, your submitted notebook will *not* be evaluated by Momotor. You are free to use any libraries you like, but make sure you import all your libraries between the `# // BEGIN_TODO [Q0]` and `# // END_TODO [Q0]` tags.\n",
    "\n",
    "You are encouraged to play with the data and extend this notebook in order to obtain your answers. You may insert cells at any point in the notebook, but remember:\n",
    "<br/><br/>\n",
    "<div style=\"padding: 15px; border: 1px solid transparent; border-color: transparent; margin-bottom: 20px; border-radius: 4px; color: #a94442; background-color: #f2dede; border-color: #ebccd1;\n",
    "\">\n",
    "Only the code in your answer cells (i.e. between `# // BEGIN_TODO` and `# // END_TODO`) will be extracted and evaluated.\n",
    "</div>\n",
    "\n",
    "<div style=\"padding: 15px; border: 1px solid transparent; border-color: transparent; margin-bottom: 20px; border-radius: 4px; color: #a94442; background-color: #f2dede; border-color: #ebccd1;\n",
    "\">\n",
    "Before delivering your notebook, make sure that the cells in your notebook can be executed in sequence without errors, by executing \"Restart & Run All\" from the \"Kernel\" menu.\n",
    "</div>\n",
    "\n",
    "Let's get started by filling in your details in the following answer cell. Assign your group number, your names and student ids to variables `group_number`, `name_student1`, `id_student1`, `name_student2`, `id_student2`, e.g.:\n",
    "\n",
    "```\n",
    "# // BEGIN_TODO [AUTHOR]\n",
    "group_number = \"7\"\n",
    "name_student1 = \"John Smith\"\n",
    "id_student1 = \"1234567\"\n",
    "name_student2 = \"Jane Miller\"\n",
    "id_student2 = \"7654321\"\n",
    "# // END_TODO [AUTHOR]\n",
    "```"
   ]
  },
  {
   "cell_type": "code",
   "execution_count": null,
   "id": "dfd5121d",
   "metadata": {},
   "outputs": [],
   "source": [
    "#// BEGIN_TODO [AUTHOR]\n",
    "\n",
    "# ===== =====> Replace this line by your code. <===== ===== #\n",
    "\n",
    "#// END_TODO [AUTHOR]"
   ]
  },
  {
   "cell_type": "markdown",
   "id": "f5849978",
   "metadata": {},
   "source": [
    "## Import libraries\n",
    "\n",
    "You are free to use any libraries you like. However, please import any additional libraries between `# // BEGIN_TODO [CODE]` and `# // END_TODO [CODE]` tags in Part 2."
   ]
  },
  {
   "cell_type": "code",
   "execution_count": null,
   "id": "3514b63e",
   "metadata": {},
   "outputs": [],
   "source": [
    "import pandas as pd\n",
    "import numpy as np\n",
    "import matplotlib.pyplot as plt\n",
    "import pickle"
   ]
  },
  {
   "cell_type": "markdown",
   "id": "91b7c08a",
   "metadata": {},
   "source": [
    "## Load the data\n",
    "\n",
    "The training data, that was used to train the classifier before deployment, resides in the `./data/wafer_training.pkl` pickle file."
   ]
  },
  {
   "cell_type": "code",
   "execution_count": null,
   "id": "621ad3a6",
   "metadata": {
    "ExecuteTime": {
     "end_time": "2022-10-01T20:02:24.232831Z",
     "start_time": "2022-10-01T20:02:24.116407Z"
    }
   },
   "outputs": [],
   "source": [
    "with open('./data/wafer_training.pkl', 'rb') as f:\n",
    "    X_train, y_train = pickle.load(f)"
   ]
  },
  {
   "cell_type": "markdown",
   "id": "a75531fc",
   "metadata": {},
   "source": [
    "`X_train` contains the wafer maps and `y_train` contains the labels. The maps are 26x26 pixels, a pixel of value 0 represents the background, a pixel of value 1 indicates a good chip, and a pixel of value 2 indicates a bad chip. An example of a wafer map is shown below."
   ]
  },
  {
   "cell_type": "code",
   "execution_count": null,
   "id": "20f2abd3",
   "metadata": {},
   "outputs": [],
   "source": [
    "fig, axes = plt.subplots(1, figsize = (2,2))\n",
    "plt.imshow(X_train[0]);"
   ]
  },
  {
   "cell_type": "markdown",
   "id": "cf66bb86",
   "metadata": {},
   "source": [
    "The production data, that was collected after the classifier was deployed in production, resides in the `./data/wafer_production.pkl` pickle file."
   ]
  },
  {
   "cell_type": "code",
   "execution_count": null,
   "id": "f3fc1655",
   "metadata": {},
   "outputs": [],
   "source": [
    "with open('./data/wafer_production.pkl', 'rb') as f:\n",
    "    X_production, y_production = pickle.load(f)"
   ]
  },
  {
   "cell_type": "markdown",
   "id": "add901ea",
   "metadata": {},
   "source": [
    "`X_production` contains the wafer maps and `y_production` contains the labels. The samples are listed in the same order as they were collected.\n",
    "\n",
    "The wafer maps were labeled by human experts according to whether the wafer map contains a known bad chip pattern or not:\n",
    "\n",
    "- 1: a pattern (one of the 8 patterns in the Calibration assignment)\n",
    "- 0: no pattern\n",
    "- -1: unlabeled sample\n",
    "\n",
    "You will observe that `y_production` is only partially labeled, i.e. some samples are unlabeled. You can imagine that labeling is time consuming and expensive process and only a subset was labeled, e.g. for monitoring the performance of the classifier.\n",
    "\n",
    "An example of the wafer map with and without known pattern is shown below."
   ]
  },
  {
   "cell_type": "code",
   "execution_count": null,
   "id": "837764b4",
   "metadata": {},
   "outputs": [],
   "source": [
    "unique_classes, class_indexes = np.unique(y_train,return_index=True)\n",
    "class_names = [\"No pattern\", \"Pattern\"]\n",
    "fig, axes = plt.subplots(1,2, figsize = (6,2))\n",
    "for num_index, index in enumerate(class_indexes):\n",
    "    axes[num_index].imshow(X_train[index])\n",
    "    axes[num_index].set_title(class_names[unique_classes[num_index]])\n",
    "    axes[num_index].set_xticks([])\n",
    "    axes[num_index].set_yticks([])"
   ]
  },
  {
   "cell_type": "markdown",
   "id": "7ddb4ba7",
   "metadata": {},
   "source": [
    "## Define the classifier\n",
    "\n",
    "Here is the implementation of the deployed classifier. It is a multi-layer perceptron with one hidden layer containing 10 neurons, that is trained using the Adam optimizer with early stopping. It expects a vector as input."
   ]
  },
  {
   "cell_type": "code",
   "execution_count": null,
   "id": "9b027045",
   "metadata": {},
   "outputs": [],
   "source": [
    "from sklearn.neural_network import MLPClassifier\n",
    "\n",
    "deployed_classifier = MLPClassifier(hidden_layer_sizes=(10), early_stopping=True, tol=1e-4, validation_fraction=0.1,\n",
    "                                n_iter_no_change=20, solver=\"adam\", max_iter=100, random_state=1)"
   ]
  },
  {
   "cell_type": "markdown",
   "id": "356882ba",
   "metadata": {},
   "source": [
    "## Part 1: identify the data mining objective\n",
    "\n",
    "Think of a data mining objective that can be derived from the description above. The objective should be general enough to prevent similar problems from occurring in the future. We will discuss your objectives during the lab session on October 6th and decide on a common objective to be addressed by all groups (it will be posted on Teams for those unable to attend the lab session). Feel free to explore the data."
   ]
  },
  {
   "cell_type": "code",
   "execution_count": null,
   "id": "fa97794b",
   "metadata": {},
   "outputs": [],
   "source": [
    "# TODO: Explore the data"
   ]
  },
  {
   "cell_type": "markdown",
   "id": "5ff8447f",
   "metadata": {},
   "source": [
    "## Part 2: address the data mining objective\n",
    "\n",
    "Address the *common* data mining objective and document your findings in the report. You are free to use any approach you like. To get started you may read the required reading in the slides on Dataset Shift and follow the cited papers.\n",
    "\n",
    "<br/>\n",
    "<div style=\"padding: 15px; border: 1px solid transparent; border-color: transparent; margin-bottom: 20px; border-radius: 4px; color: #a94442; background-color: #f2dede; border-color: #ebccd1;\n",
    "\">\n",
    "For this assignment only your report will be graded. While your code will not be graded directly, any results and figures in your report must be generated by your code below.\n",
    "</div>"
   ]
  },
  {
   "cell_type": "code",
   "execution_count": null,
   "id": "5ddb1c15",
   "metadata": {},
   "outputs": [],
   "source": [
    "#// BEGIN_TODO [CODE] (0 points)\n",
    "\n",
    "# ===== =====> Replace this line by your code. <===== ===== #\n"
   ]
  },
  {
   "cell_type": "code",
   "execution_count": null,
   "id": "4a25860f",
   "metadata": {},
   "outputs": [],
   "source": [
    "#// END_TODO [CODE]"
   ]
  },
  {
   "cell_type": "markdown",
   "id": "73c1e555",
   "metadata": {},
   "source": [
    "# Feedback\n",
    "\n",
    "Please fill in this questionaire to help us improve this course for the next year. Your feedback will be anonymized and will not affect your grade in any way!"
   ]
  },
  {
   "cell_type": "markdown",
   "id": "f4323869",
   "metadata": {},
   "source": [
    "### How many hours did you spend on this assignment?\n",
    "\n",
    "Assign a number to variable `feedback_time`."
   ]
  },
  {
   "cell_type": "code",
   "execution_count": null,
   "id": "7e209271",
   "metadata": {},
   "outputs": [],
   "source": [
    "#// BEGIN_FEEDBACK [Feedback_1] (0 points)\n",
    "\n",
    "#// END_FEEDBACK [Feedback_1]\n",
    "\n",
    "import numbers\n",
    "assert isinstance(feedback_time, numbers.Number), \"Please assign a number to variable feedback_time\""
   ]
  },
  {
   "cell_type": "markdown",
   "id": "92df9e1a",
   "metadata": {},
   "source": [
    "### How difficult did you find this assignment?\n",
    "\n",
    "Assign an integer to variable `feedback_difficulty`, on a scale 0 - 10, with 0 being very easy, 5 being just right, and 10 being very difficult."
   ]
  },
  {
   "cell_type": "code",
   "execution_count": null,
   "id": "c44da128",
   "metadata": {},
   "outputs": [],
   "source": [
    "#// BEGIN_FEEDBACK [Feedback_2] (0 points)\n",
    "\n",
    "#// END_FEEDBACK [Feedback_2]\n",
    "\n",
    "assert isinstance(feedback_difficulty, numbers.Number), \"Please assign a number to variable feedback_difficulty\""
   ]
  },
  {
   "cell_type": "markdown",
   "id": "e3790e84",
   "metadata": {},
   "source": [
    "### (Optional) What did you like?\n",
    "\n",
    "Assign a string to variable `feedback_like`."
   ]
  },
  {
   "cell_type": "code",
   "execution_count": null,
   "id": "78831b99",
   "metadata": {},
   "outputs": [],
   "source": [
    "#// BEGIN_FEEDBACK [Feedback_5] (0 points)\n",
    "\n",
    "#// END_FEEDBACK [Feedback_5]"
   ]
  },
  {
   "cell_type": "markdown",
   "id": "e0b74a0b",
   "metadata": {},
   "source": [
    "### (Optional) What can be improved?\n",
    "\n",
    "Assign a string to variable `feedback_improve`. Please be specific, so that we can act on your feedback."
   ]
  },
  {
   "cell_type": "code",
   "execution_count": null,
   "id": "09c79c04",
   "metadata": {},
   "outputs": [],
   "source": [
    "#// BEGIN_FEEDBACK [Feedback_6] (0 points)\n",
    "\n",
    "#// END_FEEDBACK [Feedback_6]"
   ]
  }
 ],
 "metadata": {
  "hide_input": false,
  "kernelspec": {
   "display_name": "Python 3",
   "language": "python",
   "name": "python3"
  },
  "language_info": {
   "codemirror_mode": {
    "name": "ipython",
    "version": 3
   },
   "file_extension": ".py",
   "mimetype": "text/x-python",
   "name": "python",
   "nbconvert_exporter": "python",
   "pygments_lexer": "ipython3",
   "version": "3.7.13"
  },
  "toc": {
   "base_numbering": 1,
   "nav_menu": {},
   "number_sections": false,
   "sideBar": true,
   "skip_h1_title": false,
   "title_cell": "Table of Contents",
   "title_sidebar": "Contents",
   "toc_cell": false,
   "toc_position": {},
   "toc_section_display": true,
   "toc_window_display": true
  }
 },
 "nbformat": 4,
 "nbformat_minor": 5
}
